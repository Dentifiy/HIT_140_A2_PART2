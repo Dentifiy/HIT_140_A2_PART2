{
  "cells": [
    {
      "cell_type": "markdown",
      "metadata": {
        "id": "view-in-github",
        "colab_type": "text"
      },
      "source": [
        "<a href=\"https://colab.research.google.com/github/Dentifiy/HIT_140_A2_PART2/blob/main/HIT_140_A2.ipynb\" target=\"_parent\"><img src=\"https://colab.research.google.com/assets/colab-badge.svg\" alt=\"Open In Colab\"/></a>"
      ]
    },
    {
      "cell_type": "code",
      "execution_count": 1,
      "id": "dcf6ed44",
      "metadata": {
        "id": "dcf6ed44"
      },
      "outputs": [],
      "source": [
        "import pandas as pd\n",
        "import numpy as np\n",
        "from sklearn.model_selection import train_test_split\n",
        "from sklearn import metrics\n",
        "import matplotlib.pyplot as plt\n",
        "from sklearn.model_selection import LeaveOneOut\n",
        "from sklearn.model_selection import cross_val_score\n",
        "import sklearn.linear_model as skl_lm"
      ]
    },
    {
      "cell_type": "markdown",
      "id": "73f96ea8",
      "metadata": {
        "id": "73f96ea8"
      },
      "source": [
        "## Exploratory Data Analysis"
      ]
    },
    {
      "cell_type": "code",
      "source": [
        "data = pd.read_csv(\"/content/fairfield_data.csv\", sep = \",\", encoding=\"ISO-8859-1\")"
      ],
      "metadata": {
        "id": "DWL30Cxh7p7v"
      },
      "id": "DWL30Cxh7p7v",
      "execution_count": null,
      "outputs": []
    },
    {
      "cell_type": "code",
      "execution_count": 12,
      "id": "44273202",
      "metadata": {
        "colab": {
          "base_uri": "https://localhost:8080/",
          "height": 297
        },
        "id": "44273202",
        "outputId": "af7fecbc-9ce0-4387-f533-1cfc86039e37"
      },
      "outputs": [
        {
          "output_type": "display_data",
          "data": {
            "text/plain": [
              "<Figure size 432x288 with 10 Axes>"
            ],
            "image/png": "[encoded data removed]"
          },
          "metadata": {
            "needs_background": "light"
          }
        }
      ],
      "source": [
        "# Check distirbutions of numerical columns\n",
        "def draw_histograms(df, variables, n_rows, n_cols):\n",
        "    fig=plt.figure()\n",
        "    for i, var_name in enumerate(variables):\n",
        "        ax=fig.add_subplot(n_rows,n_cols,i+1)\n",
        "        df[var_name].hist(bins=10,ax=ax)\n",
        "        ax.set_title(var_name+\" Distribution\")\n",
        "    fig.tight_layout()  # Improves appearance a bit.\n",
        "    plt.show()\n",
        "data_temp = data[[\"Fish\", \"Mercury\", \"Elevation\", \"Surface Area\", \"Max Depth\", \"RF\", \"FR\", \"Dam\", \"RT\", \"RS\"]]\n",
        "draw_histograms(data, data_temp.columns, 4, 3)"
      ]
    },
    {
      "cell_type": "markdown",
      "id": "7a13076e",
      "metadata": {
        "id": "7a13076e"
      },
      "source": [
        "## Regression Modelling"
      ]
    },
    {
      "cell_type": "code",
      "execution_count": 13,
      "id": "ac9cdf57",
      "metadata": {
        "id": "ac9cdf57"
      },
      "outputs": [],
      "source": [
        "# Differentiate X and Y\n",
        "X = data.drop(['Mercury'], axis = 1)\n",
        "y = data['Mercury']"
      ]
    },
    {
      "cell_type": "code",
      "execution_count": 14,
      "id": "9a47266d",
      "metadata": {
        "id": "9a47266d"
      },
      "outputs": [],
      "source": [
        "# SPlit the dataset into training and testing sets, with a ratio of 70% and 30% respectively.\n",
        "X_train, X_test, y_train, y_test = train_test_split(X, \n",
        "                                                    y, \n",
        "                                                    test_size = 0.3,\n",
        "                                                   random_state = 42)"
      ]
    },
    {
      "cell_type": "code",
      "execution_count": 15,
      "id": "0f598f86",
      "metadata": {
        "id": "0f598f86"
      },
      "outputs": [],
      "source": [
        "lm = skl_lm.LinearRegression()\n",
        "model = lm.fit(X_train, \n",
        "               y_train)"
      ]
    },
    {
      "cell_type": "markdown",
      "id": "79f5e906",
      "metadata": {
        "id": "79f5e906"
      },
      "source": [
        "## Testing"
      ]
    },
    {
      "cell_type": "code",
      "source": [],
      "metadata": {
        "id": "vcMpSi04CRw9"
      },
      "id": "vcMpSi04CRw9",
      "execution_count": null,
      "outputs": []
    },
    {
      "cell_type": "code",
      "execution_count": null,
      "id": "2d4c22f1",
      "metadata": {
        "id": "2d4c22f1"
      },
      "outputs": [],
      "source": []
    }
  ],
  "metadata": {
    "kernelspec": {
      "display_name": "Python 3.11.0 64-bit",
      "language": "python",
      "name": "python3"
    },
    "language_info": {
      "codemirror_mode": {
        "name": "ipython",
        "version": 3
      },
      "file_extension": ".py",
      "mimetype": "text/x-python",
      "name": "python",
      "nbconvert_exporter": "python",
      "pygments_lexer": "ipython3",
      "version": "3.11.0"
    },
    "vscode": {
      "interpreter": {
        "hash": "e17c78a14aa2424c0334c81e4198d56011288d192840c45bb969b898c2ce6915"
      }
    },
    "colab": {
      "provenance": [],
      "include_colab_link": true
    }
  },
  "nbformat": 4,
  "nbformat_minor": 5
}